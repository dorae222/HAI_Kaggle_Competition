{
 "cells": [
  {
   "cell_type": "code",
   "execution_count": 1,
   "id": "d149e98a-04c2-4b86-9d3c-64b9472f511c",
   "metadata": {},
   "outputs": [],
   "source": [
    "import os\n",
    "import random\n",
    "import easydict\n",
    "import requests\n",
    "import torch\n",
    "import numpy as np\n",
    "import pandas as pd\n",
    "\n",
    "from tqdm import tqdm\n",
    "from transformers import AdamW, get_linear_schedule_with_warmup\n",
    "from torch.utils.data import TensorDataset, DataLoader, RandomSampler, SequentialSampler\n",
    "from keras_preprocessing.sequence import pad_sequences\n",
    "from transformers import AutoTokenizer, AutoModelForSequenceClassification\n",
    "from torch.utils.tensorboard import SummaryWriter\n",
    "\n",
    "import matplotlib.pyplot as plt\n",
    "\n",
    "import warnings\n",
    "warnings.filterwarnings('ignore', category=FutureWarning)"
   ]
  },
  {
   "cell_type": "markdown",
   "id": "846662d4-0123-435b-98a5-cbd977b8e84c",
   "metadata": {},
   "source": [
    "## func"
   ]
  },
  {
   "cell_type": "markdown",
   "id": "4a4dfd9c-8889-493f-b69a-e23f67def1fe",
   "metadata": {},
   "source": [
    "### generate_data_loader"
   ]
  },
  {
   "cell_type": "code",
   "execution_count": 2,
   "id": "d3afd530-242f-4eb3-80b2-043e3fc56bcb",
   "metadata": {},
   "outputs": [],
   "source": [
    "def generate_data_loader(file_path, tokenizer, args):\n",
    "\n",
    "    def get_input_ids(data):\n",
    "        document_bert = [\"[CLS] \" + str(s) + \" [SEP]\" for s in data]\n",
    "        tokenized_texts = [tokenizer.tokenize(s) for s in tqdm(document_bert, \"Tokenizing\")]\n",
    "        input_ids = [tokenizer.convert_tokens_to_ids(x) for x in tqdm(tokenized_texts, \"Converting tokens to ids\")]\n",
    "        print(\"Padding sequences...\")\n",
    "        input_ids = pad_sequences(input_ids, maxlen=args.maxlen, dtype='long', truncating='post', padding='post')\n",
    "        return input_ids\n",
    "\n",
    "    def get_attention_masks(input_ids):\n",
    "        attention_masks = []\n",
    "        for seq in tqdm(input_ids, \"Generating attention masks\"):\n",
    "            seq_mask = [float(i > 0) for i in seq]\n",
    "            attention_masks.append(seq_mask)\n",
    "        return attention_masks\n",
    "\n",
    "    def get_data_loader(inputs, masks, labels, batch_size=args.batch):\n",
    "        data = TensorDataset(torch.tensor(inputs), torch.tensor(masks), torch.tensor(labels))\n",
    "        sampler = RandomSampler(data) if args.mode == 'train' else SequentialSampler(data)\n",
    "        data_loader = DataLoader(data, sampler=sampler, batch_size=batch_size)\n",
    "        return data_loader\n",
    "\n",
    "    data_df = pd.read_csv(file_path)\n",
    "    input_ids = get_input_ids(data_df['text'].values)\n",
    "    attention_masks = get_attention_masks(input_ids)\n",
    "    data_loader = get_data_loader(input_ids, attention_masks, data_df['label'].values if args.mode=='train' else [-1]*len(data_df))\n",
    "\n",
    "    return data_loader"
   ]
  },
  {
   "cell_type": "markdown",
   "id": "144af7b1-b11f-4c9d-a7d8-b1afa031f1b7",
   "metadata": {},
   "source": [
    "### save&flat_accuracy"
   ]
  },
  {
   "cell_type": "code",
   "execution_count": 3,
   "id": "578cb0d2-bcc2-4100-be4d-b1dc4751f77a",
   "metadata": {},
   "outputs": [],
   "source": [
    "def save(model, dir_name):\n",
    "    os.makedirs(dir_name, exist_ok=True)\n",
    "    torch.save(model.state_dict(), os.path.join(dir_name, 'model.pth'))\n",
    "\n",
    "def flat_accuracy(preds, labels):\n",
    "    pred_flat = np.argmax(preds, axis=1).flatten()\n",
    "    labels_flat = labels.flatten()\n",
    "    return np.sum(pred_flat == labels_flat) / len(labels_flat)"
   ]
  },
  {
   "cell_type": "markdown",
   "id": "2e04e25d-9863-4b4b-bd92-70eebad8a714",
   "metadata": {},
   "source": [
    "### predict"
   ]
  },
  {
   "cell_type": "code",
   "execution_count": 4,
   "id": "fdf34ebb-0a05-40e3-a3c2-7b9d4e614493",
   "metadata": {},
   "outputs": [],
   "source": [
    "def predict(model, args, data_loader):\n",
    "    print('start predict')\n",
    "    model.eval()\n",
    "\n",
    "    eval_loss = []\n",
    "    eval_accuracy = []\n",
    "    logits = []\n",
    "\n",
    "    for step, batch in tqdm(enumerate(data_loader)):\n",
    "        batch = tuple(t.to(args.device) for t in batch)\n",
    "        b_input_ids, b_input_mask, b_labels = batch\n",
    "\n",
    "        with torch.no_grad():\n",
    "            if args.mode == 'test':\n",
    "                outputs = model(b_input_ids, attention_mask=b_input_mask)\n",
    "                logit = outputs[0]\n",
    "            else:\n",
    "                outputs = model(b_input_ids, attention_mask=b_input_mask, labels=b_labels)\n",
    "                loss, logit = outputs[:2]\n",
    "                eval_loss.append(loss.item())\n",
    "\n",
    "        logit = logit.detach().cpu().numpy()\n",
    "        label = b_labels.cpu().numpy()\n",
    "\n",
    "        logits.append(logit)\n",
    "\n",
    "        if args.mode != 'test':\n",
    "            accuracy = flat_accuracy(logit, label)\n",
    "            eval_accuracy.append(accuracy)\n",
    "\n",
    "    logits = np.vstack(logits)\n",
    "    predict_labels = np.argmax(logits, axis=1)\n",
    "\n",
    "    if args.mode == 'test':\n",
    "        return predict_labels, None\n",
    "\n",
    "    avg_eval_loss = np.mean(eval_loss)\n",
    "    avg_eval_accuracy = np.mean(eval_accuracy)\n",
    "\n",
    "    return predict_labels, avg_eval_loss, avg_eval_accuracy"
   ]
  },
  {
   "cell_type": "markdown",
   "id": "cbcc90ea-f871-4b7e-a971-851f8ee6a105",
   "metadata": {},
   "source": [
    "### train"
   ]
  },
  {
   "cell_type": "code",
   "execution_count": 5,
   "id": "309cc911-1403-4825-ba71-88d28db8c954",
   "metadata": {},
   "outputs": [],
   "source": [
    "def train(model, args, train_loader, valid_loader, patience=5):\n",
    "    experiment_name = f\"model_ckpt_{args.model_ckpt.replace('/', '_')}_lr_{args.lr}_batch_{args.batch}_epochs_{args.epochs}_maxlen_{args.maxlen}_eps_{args.eps}\"\n",
    "    writer = SummaryWriter(f'hai_kaggle/{experiment_name}')\n",
    "\n",
    "    optimizer = AdamW(model.parameters(),\n",
    "                      lr=args.lr,\n",
    "                      eps=args.eps\n",
    "                      )\n",
    "    total_steps = len(train_loader) * args.epochs\n",
    "\n",
    "    scheduler = get_linear_schedule_with_warmup(optimizer,\n",
    "                                                num_warmup_steps=0,\n",
    "                                                num_training_steps=total_steps)\n",
    "\n",
    "    seed_val = 42\n",
    "    random.seed(seed_val)\n",
    "    np.random.seed(seed_val)\n",
    "    torch.manual_seed(seed_val)\n",
    "    torch.cuda.manual_seed_all(seed_val)\n",
    "\n",
    "    best_val_accuracy = 0.0\n",
    "    best_train_accuracy = 0.0\n",
    "    epochs_without_improvement = 0\n",
    "\n",
    "    train_accuracies = []\n",
    "    val_accuracies = []\n",
    "\n",
    "    print('start training')\n",
    "    for epoch in range(args.epochs):\n",
    "        model.train()\n",
    "        train_loss = []\n",
    "        for step, batch in tqdm(enumerate(train_loader), f\"training epoch {epoch}\", total=len(train_loader)):\n",
    "            model.zero_grad()\n",
    "            batch = tuple(t.to(args.device) for t in batch)\n",
    "            b_input_ids, b_input_mask, b_labels = batch\n",
    "            outputs = model(b_input_ids,\n",
    "                            attention_mask=b_input_mask,\n",
    "                            labels=b_labels)\n",
    "            loss = outputs[0]\n",
    "            train_loss.append(loss.item())\n",
    "            loss.backward()\n",
    "            torch.nn.utils.clip_grad_norm_(model.parameters(), 1.0)\n",
    "            optimizer.step()\n",
    "            scheduler.step()\n",
    "\n",
    "            writer.add_scalar('training loss',\n",
    "                            loss.item(),\n",
    "                            epoch * len(train_loader) + step)\n",
    "\n",
    "        avg_train_loss = np.mean(train_loss)\n",
    "        _, _, avg_train_accuracy = predict(model, args, train_loader)\n",
    "        _, _, avg_val_accuracy = predict(model, args, valid_loader)\n",
    "        print(\"Epoch {0},  Average training loss: {1:.4f} , Train accuracy : {2:.4f}, Validation accuracy : {3:.4f}\"\n",
    "              .format(epoch, avg_train_loss, avg_train_accuracy, avg_val_accuracy))\n",
    "\n",
    "        train_accuracies.append(avg_train_accuracy)\n",
    "        val_accuracies.append(avg_val_accuracy)\n",
    "\n",
    "        writer.add_scalar('training accuracy',\n",
    "                        avg_train_accuracy,\n",
    "                        epoch)\n",
    "        writer.add_scalar('validation accuracy',\n",
    "                        avg_val_accuracy,\n",
    "                        epoch)\n",
    "\n",
    "        if avg_val_accuracy > best_val_accuracy:\n",
    "            best_val_accuracy = avg_val_accuracy\n",
    "            best_train_accuracy = avg_train_accuracy\n",
    "            epochs_without_improvement = 0\n",
    "            save_path = f\"./saved_checkpoints/best_model/{experiment_name}_TrainAcc_{best_train_accuracy}_ValAcc_{best_val_accuracy}\"\n",
    "            save(model, save_path)\n",
    "        else:\n",
    "            epochs_without_improvement += 1\n",
    "\n",
    "        if epochs_without_improvement >= patience:\n",
    "            print(f\"[Early Stopping]{patience} epoch에서 중단.[Early Stopping]\")\n",
    "            break\n",
    "\n",
    "    plt.figure(figsize=(8, 6))\n",
    "    plt.plot(range(1, epoch + 2), train_accuracies, label='Train Accuracy')\n",
    "    plt.plot(range(1, epoch + 2), val_accuracies, label='Validation Accuracy')\n",
    "    plt.xlabel('Epochs')\n",
    "    plt.ylabel('Accuracy')\n",
    "    plt.title('Accuracy over Epochs')\n",
    "    plt.legend()\n",
    "    plt.grid(True)\n",
    "    plt.show()\n",
    "\n",
    "    model_path = f\"./saved_checkpoints/best_model/{experiment_name}_TrainAcc_{best_train_accuracy}_ValAcc_{best_val_accuracy}/model.pth\"\n",
    "    model.load_state_dict(torch.load(model_path))\n",
    "\n",
    "    print(f\"Best Train Accuracy: {best_train_accuracy}, Best Validation Accuracy: {best_val_accuracy}\")\n",
    "\n",
    "    writer.add_hparams({\n",
    "        'lr': args.lr,\n",
    "        'eps': args.eps,\n",
    "        'batch': args.batch,\n",
    "        'epochs': args.epochs,\n",
    "        'maxlen': args.maxlen\n",
    "        }, {\n",
    "        'best_train_accuracy': best_train_accuracy,\n",
    "        'best_val_accuracy': best_val_accuracy\n",
    "        })\n",
    "\n",
    "    writer.close()\n",
    "    return model, best_train_accuracy, best_val_accuracy, train_accuracies, val_accuracies"
   ]
  },
  {
   "cell_type": "markdown",
   "id": "f0f10426-8412-47cb-b8c2-53a4db71049b",
   "metadata": {},
   "source": [
    "### train_valid"
   ]
  },
  {
   "cell_type": "code",
   "execution_count": 6,
   "id": "0e9758a3-eae6-485f-897c-35b1b057e5d3",
   "metadata": {},
   "outputs": [],
   "source": [
    "def train_valid(args):\n",
    "    if torch.cuda.is_available():\n",
    "        args.device = 'cuda'\n",
    "    else:\n",
    "        args.device = 'cpu'\n",
    "\n",
    "    model = AutoModelForSequenceClassification.from_pretrained(args.model_ckpt, num_labels=3)\n",
    "    model.to(args.device)\n",
    "    tokenizer = AutoTokenizer.from_pretrained(args.model_ckpt)\n",
    "\n",
    "    train_dataloader = generate_data_loader(args.train_path, tokenizer, args)\n",
    "    validation_dataloader = generate_data_loader(args.valid_path, tokenizer, args)\n",
    "\n",
    "    model, best_train_accuracy, best_val_accuracy, train_accuracies, val_accuracies = train(model, args, train_dataloader, validation_dataloader)\n",
    "\n",
    "    return model, tokenizer, train_accuracies, val_accuracies, best_train_accuracy, best_val_accuracy"
   ]
  },
  {
   "cell_type": "markdown",
   "id": "d40c973a-b115-4acd-b64a-3b36dae05b1f",
   "metadata": {},
   "source": [
    "### test"
   ]
  },
  {
   "cell_type": "code",
   "execution_count": 7,
   "id": "66033153-0a31-41e9-84a5-78ff2f6f3f47",
   "metadata": {},
   "outputs": [],
   "source": [
    "# best_train_accuracy & best_val_accuracy는 모델 경로 때문에 주는 것임!\n",
    "def test(model, tokenizer, test_args, file_path, args, best_train_accuracy, best_val_accuracy):\n",
    "    if torch.cuda.is_available():\n",
    "        test_args.device = 'cuda'\n",
    "\n",
    "    test_dataloader = generate_data_loader(file_path, tokenizer=tokenizer, args=test_args)\n",
    "    labels, _ = predict(model, test_args, test_dataloader)\n",
    "\n",
    "    submit_df = pd.DataFrame()\n",
    "    submit_df[\"idx\"] = range(len(labels))\n",
    "    submit_df[\"label\"] = labels\n",
    "    save_path = f\"./saved_checkpoints/best_model/model_ckpt_{args.model_ckpt.replace('/', '_')}_lr_{args.lr}_batch_{args.batch}_epochs_{args.epochs}_maxlen_{args.maxlen}_eps_{args.eps}_TrainAcc_{best_train_accuracy}_ValAcc_{best_val_accuracy}/submission.csv\"\n",
    "    submit_df.to_csv(save_path, index=False)\n",
    "    print(f\"Submission file saved to {save_path}\")"
   ]
  },
  {
   "cell_type": "markdown",
   "id": "90de1007-d508-4d0e-885b-74a08b2a81f7",
   "metadata": {},
   "source": [
    "# 파라미터 조정 및 모델 변경"
   ]
  },
  {
   "cell_type": "markdown",
   "id": "cc9b0f2a-ae7b-47a5-b13d-9d8ee1253362",
   "metadata": {},
   "source": [
    "## funnel-kor-base"
   ]
  },
  {
   "cell_type": "markdown",
   "id": "839a5f60-4af7-4de4-ae9c-6ebcb06d6756",
   "metadata": {},
   "source": [
    "### 64/32/8.00E-05/1.00E-08/50"
   ]
  },
  {
   "cell_type": "code",
   "execution_count": 8,
   "id": "58fdbc5f-4056-44dd-8193-b78cdac16cf8",
   "metadata": {},
   "outputs": [
    {
     "name": "stderr",
     "output_type": "stream",
     "text": [
      "Some weights of FunnelForSequenceClassification were not initialized from the model checkpoint at kykim/funnel-kor-base and are newly initialized: ['classifier.linear_out.weight', 'classifier.linear_out.bias', 'classifier.linear_hidden.weight', 'classifier.linear_hidden.bias']\n",
      "You should probably TRAIN this model on a down-stream task to be able to use it for predictions and inference.\n",
      "Tokenizing: 100%|████████████████████| 190740/190740 [00:08<00:00, 23036.15it/s]\n",
      "Converting tokens to ids: 100%|█████| 190740/190740 [00:00<00:00, 191603.06it/s]\n"
     ]
    },
    {
     "name": "stdout",
     "output_type": "stream",
     "text": [
      "Padding sequences...\n"
     ]
    },
    {
     "name": "stderr",
     "output_type": "stream",
     "text": [
      "Generating attention masks: 100%|███| 190740/190740 [00:01<00:00, 135463.80it/s]\n",
      "Tokenizing: 100%|██████████████████████████| 973/973 [00:00<00:00, 23741.57it/s]\n",
      "Converting tokens to ids: 100%|███████████| 973/973 [00:00<00:00, 233911.72it/s]\n"
     ]
    },
    {
     "name": "stdout",
     "output_type": "stream",
     "text": [
      "Padding sequences...\n"
     ]
    },
    {
     "name": "stderr",
     "output_type": "stream",
     "text": [
      "Generating attention masks: 100%|█████████| 973/973 [00:00<00:00, 145279.90it/s]\n"
     ]
    },
    {
     "name": "stdout",
     "output_type": "stream",
     "text": [
      "start training\n"
     ]
    },
    {
     "name": "stderr",
     "output_type": "stream",
     "text": [
      "training epoch 0: 100%|█████████████████████| 2981/2981 [09:57<00:00,  4.99it/s]\n"
     ]
    },
    {
     "name": "stdout",
     "output_type": "stream",
     "text": [
      "start predict\n"
     ]
    },
    {
     "name": "stderr",
     "output_type": "stream",
     "text": [
      "2981it [03:04, 16.20it/s]\n"
     ]
    },
    {
     "name": "stdout",
     "output_type": "stream",
     "text": [
      "start predict\n"
     ]
    },
    {
     "name": "stderr",
     "output_type": "stream",
     "text": [
      "16it [00:00, 17.10it/s]\n"
     ]
    },
    {
     "name": "stdout",
     "output_type": "stream",
     "text": [
      "Epoch 0,  Average training loss: 0.9758 , Train accuracy : 0.5793, Validation accuracy : 0.5600\n"
     ]
    },
    {
     "name": "stderr",
     "output_type": "stream",
     "text": [
      "training epoch 1: 100%|█████████████████████| 2981/2981 [09:56<00:00,  5.00it/s]\n"
     ]
    },
    {
     "name": "stdout",
     "output_type": "stream",
     "text": [
      "start predict\n"
     ]
    },
    {
     "name": "stderr",
     "output_type": "stream",
     "text": [
      "2981it [03:03, 16.25it/s]\n"
     ]
    },
    {
     "name": "stdout",
     "output_type": "stream",
     "text": [
      "start predict\n"
     ]
    },
    {
     "name": "stderr",
     "output_type": "stream",
     "text": [
      "16it [00:00, 17.13it/s]\n"
     ]
    },
    {
     "name": "stdout",
     "output_type": "stream",
     "text": [
      "Epoch 1,  Average training loss: 0.9743 , Train accuracy : 0.5793, Validation accuracy : 0.5600\n"
     ]
    },
    {
     "name": "stderr",
     "output_type": "stream",
     "text": [
      "training epoch 2: 100%|█████████████████████| 2981/2981 [09:56<00:00,  5.00it/s]\n"
     ]
    },
    {
     "name": "stdout",
     "output_type": "stream",
     "text": [
      "start predict\n"
     ]
    },
    {
     "name": "stderr",
     "output_type": "stream",
     "text": [
      "2981it [03:03, 16.26it/s]\n"
     ]
    },
    {
     "name": "stdout",
     "output_type": "stream",
     "text": [
      "start predict\n"
     ]
    },
    {
     "name": "stderr",
     "output_type": "stream",
     "text": [
      "16it [00:00, 17.15it/s]\n"
     ]
    },
    {
     "name": "stdout",
     "output_type": "stream",
     "text": [
      "Epoch 2,  Average training loss: 0.9725 , Train accuracy : 0.5794, Validation accuracy : 0.5753\n"
     ]
    },
    {
     "name": "stderr",
     "output_type": "stream",
     "text": [
      "training epoch 3: 100%|█████████████████████| 2981/2981 [09:58<00:00,  4.98it/s]\n"
     ]
    },
    {
     "name": "stdout",
     "output_type": "stream",
     "text": [
      "start predict\n"
     ]
    },
    {
     "name": "stderr",
     "output_type": "stream",
     "text": [
      "2981it [03:05, 16.11it/s]\n"
     ]
    },
    {
     "name": "stdout",
     "output_type": "stream",
     "text": [
      "start predict\n"
     ]
    },
    {
     "name": "stderr",
     "output_type": "stream",
     "text": [
      "16it [00:00, 17.02it/s]\n"
     ]
    },
    {
     "name": "stdout",
     "output_type": "stream",
     "text": [
      "Epoch 3,  Average training loss: 0.9713 , Train accuracy : 0.5793, Validation accuracy : 0.5562\n"
     ]
    },
    {
     "name": "stderr",
     "output_type": "stream",
     "text": [
      "training epoch 4: 100%|█████████████████████| 2981/2981 [10:02<00:00,  4.94it/s]\n"
     ]
    },
    {
     "name": "stdout",
     "output_type": "stream",
     "text": [
      "start predict\n"
     ]
    },
    {
     "name": "stderr",
     "output_type": "stream",
     "text": [
      "2981it [03:05, 16.09it/s]\n"
     ]
    },
    {
     "name": "stdout",
     "output_type": "stream",
     "text": [
      "start predict\n"
     ]
    },
    {
     "name": "stderr",
     "output_type": "stream",
     "text": [
      "16it [00:00, 16.97it/s]\n"
     ]
    },
    {
     "name": "stdout",
     "output_type": "stream",
     "text": [
      "Epoch 4,  Average training loss: 0.9739 , Train accuracy : 0.5793, Validation accuracy : 0.5600\n"
     ]
    },
    {
     "name": "stderr",
     "output_type": "stream",
     "text": [
      "training epoch 5: 100%|█████████████████████| 2981/2981 [10:03<00:00,  4.94it/s]\n"
     ]
    },
    {
     "name": "stdout",
     "output_type": "stream",
     "text": [
      "start predict\n"
     ]
    },
    {
     "name": "stderr",
     "output_type": "stream",
     "text": [
      "2981it [03:05, 16.08it/s]\n"
     ]
    },
    {
     "name": "stdout",
     "output_type": "stream",
     "text": [
      "start predict\n"
     ]
    },
    {
     "name": "stderr",
     "output_type": "stream",
     "text": [
      "16it [00:00, 16.96it/s]\n"
     ]
    },
    {
     "name": "stdout",
     "output_type": "stream",
     "text": [
      "Epoch 5,  Average training loss: 0.9729 , Train accuracy : 0.5793, Validation accuracy : 0.5485\n"
     ]
    },
    {
     "name": "stderr",
     "output_type": "stream",
     "text": [
      "training epoch 6: 100%|█████████████████████| 2981/2981 [10:04<00:00,  4.93it/s]\n"
     ]
    },
    {
     "name": "stdout",
     "output_type": "stream",
     "text": [
      "start predict\n"
     ]
    },
    {
     "name": "stderr",
     "output_type": "stream",
     "text": [
      "2981it [03:05, 16.10it/s]\n"
     ]
    },
    {
     "name": "stdout",
     "output_type": "stream",
     "text": [
      "start predict\n"
     ]
    },
    {
     "name": "stderr",
     "output_type": "stream",
     "text": [
      "16it [00:00, 16.98it/s]\n"
     ]
    },
    {
     "name": "stdout",
     "output_type": "stream",
     "text": [
      "Epoch 6,  Average training loss: 0.9717 , Train accuracy : 0.5793, Validation accuracy : 0.5677\n"
     ]
    },
    {
     "name": "stderr",
     "output_type": "stream",
     "text": [
      "training epoch 7: 100%|█████████████████████| 2981/2981 [10:03<00:00,  4.94it/s]\n"
     ]
    },
    {
     "name": "stdout",
     "output_type": "stream",
     "text": [
      "start predict\n"
     ]
    },
    {
     "name": "stderr",
     "output_type": "stream",
     "text": [
      "2981it [03:04, 16.13it/s]\n"
     ]
    },
    {
     "name": "stdout",
     "output_type": "stream",
     "text": [
      "start predict\n"
     ]
    },
    {
     "name": "stderr",
     "output_type": "stream",
     "text": [
      "16it [00:00, 17.03it/s]\n"
     ]
    },
    {
     "name": "stdout",
     "output_type": "stream",
     "text": [
      "Epoch 7,  Average training loss: 0.9712 , Train accuracy : 0.5793, Validation accuracy : 0.5562\n",
      "[Early Stopping]5 epoch에서 중단.[Early Stopping]\n"
     ]
    },
    {
     "data": {
      "image/png": "[encoded data removed]",
      "text/plain": [
       "<Figure size 800x600 with 1 Axes>"
      ]
     },
     "metadata": {},
     "output_type": "display_data"
    },
    {
     "name": "stdout",
     "output_type": "stream",
     "text": [
      "Best Train Accuracy: 0.5793745806776249, Best Validation Accuracy: 0.5753455528846154\n"
     ]
    },
    {
     "name": "stderr",
     "output_type": "stream",
     "text": [
      "Tokenizing: 100%|██████████████████████████| 626/626 [00:00<00:00, 22970.83it/s]\n",
      "Converting tokens to ids: 100%|███████████| 626/626 [00:00<00:00, 215923.87it/s]\n"
     ]
    },
    {
     "name": "stdout",
     "output_type": "stream",
     "text": [
      "Padding sequences...\n"
     ]
    },
    {
     "name": "stderr",
     "output_type": "stream",
     "text": [
      "Generating attention masks: 100%|█████████| 626/626 [00:00<00:00, 168223.62it/s]\n"
     ]
    },
    {
     "name": "stdout",
     "output_type": "stream",
     "text": [
      "start predict\n"
     ]
    },
    {
     "name": "stderr",
     "output_type": "stream",
     "text": [
      "10it [00:00, 16.83it/s]"
     ]
    },
    {
     "name": "stdout",
     "output_type": "stream",
     "text": [
      "Submission file saved to ./saved_checkpoints/best_model/model_ckpt_kykim_funnel-kor-base_lr_8e-05_batch_64_epochs_50_maxlen_32_eps_1e-08_TrainAcc_0.5793745806776249_ValAcc_0.5753455528846154/submission.csv\n"
     ]
    },
    {
     "name": "stderr",
     "output_type": "stream",
     "text": [
      "\n"
     ]
    }
   ],
   "source": [
    "args = easydict.EasyDict({\n",
    "    \"train_path\": \"./train.csv\",\n",
    "    \"valid_path\": \"./valid.csv\",\n",
    "    \"device\" : 'cpu',\n",
    "    \"mode\" : \"train\",\n",
    "    \"batch\" : 64,\n",
    "    \"maxlen\" : 32,\n",
    "    \"lr\" : 8e-5,\n",
    "    \"eps\" : 1e-8,\n",
    "    \"epochs\" : 50,\n",
    "    \"model_ckpt\" : \"kykim/funnel-kor-base\",\n",
    "})\n",
    "\n",
    "test_args = easydict.EasyDict({\n",
    "  \"device\" : \"cpu\",\n",
    "  \"mode\" : \"test\",\n",
    "  \"batch\" : 64,\n",
    "  \"maxlen\" : 32,\n",
    "})\n",
    "\n",
    "model, tokenizer, train_accuracies, val_accuracies, best_train_accuracy, best_val_accuracy = train_valid(args)\n",
    "test(model, tokenizer, test_args, \"./test.csv\", args, best_train_accuracy, best_val_accuracy)"
   ]
  }
 ],
 "metadata": {
  "kernelspec": {
   "display_name": "Python 3 (ipykernel)",
   "language": "python",
   "name": "python3"
  },
  "language_info": {
   "codemirror_mode": {
    "name": "ipython",
    "version": 3
   },
   "file_extension": ".py",
   "mimetype": "text/x-python",
   "name": "python",
   "nbconvert_exporter": "python",
   "pygments_lexer": "ipython3",
   "version": "3.9.17"
  }
 },
 "nbformat": 4,
 "nbformat_minor": 5
}
